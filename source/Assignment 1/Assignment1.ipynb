{
 "cells": [
  {
   "cell_type": "markdown",
   "id": "f05a6d43-152e-4b8a-8d24-6a44c860364f",
   "metadata": {},
   "source": [
    "# Data Exploration and Wrangling Assignment\n",
    "\n",
    "The objective of this assignment is to evaluate your understanding of Data Exploration and Data Wrangling concepts, along with your ability to apply them practically using standard Python libraries."
   ]
  },
  {
   "cell_type": "code",
   "execution_count": 47,
   "id": "803d86bb-0f02-4ba4-ba4e-b46de37c2ad5",
   "metadata": {},
   "outputs": [],
   "source": [
    "# imports\n",
    "import pandas as pd\n",
    "import numpy as np\n",
    "import matplotlib.pyplot as plt"
   ]
  },
  {
   "cell_type": "markdown",
   "id": "2ed6d0cc-8967-4f64-abb4-60fd3b4f7f7e",
   "metadata": {},
   "source": [
    "## Reading dataset\n",
    "\n",
    "You are given a CSV file. The file is located in the `data` directory under the name `data.csv`.\n",
    "\n",
    "You are required to read it using the pandas library as a pandas dataframe."
   ]
  },
  {
   "cell_type": "code",
   "execution_count": 56,
   "id": "016d5861-979f-4bdf-b321-38b2f5119a87",
   "metadata": {},
   "outputs": [
    {
     "name": "stdout",
     "output_type": "stream",
     "text": [
      "./Assignment1.ipynb\n",
      "./data/data.csv\n"
     ]
    }
   ],
   "source": [
    "# Listing files in the assignment for reference\n",
    "import os\n",
    "\n",
    "for dirname, dirnames, filenames in os.walk(\".\"):\n",
    "    # Remove hidden directories from the list of directories to walk\n",
    "    dirnames[:] = [d for d in dirnames if not d.startswith('.')]\n",
    "    \n",
    "    for filename in filenames:\n",
    "        # Check if the file has the desired extensions\n",
    "        if filename.endswith(\".csv\") or filename.endswith(\".ipynb\"):\n",
    "            print(os.path.join(dirname, filename))"
   ]
  },
  {
   "cell_type": "code",
   "execution_count": 57,
   "id": "d2642360-d6a8-4fa8-ac75-fcc0f0c12ce5",
   "metadata": {
    "nbgrader": {
     "grade": false,
     "grade_id": "cell-adf63d4cb32428bf",
     "locked": false,
     "schema_version": 3,
     "solution": true,
     "task": false
    }
   },
   "outputs": [
    {
     "data": {
      "text/html": [
       "<div>\n",
       "<style scoped>\n",
       "    .dataframe tbody tr th:only-of-type {\n",
       "        vertical-align: middle;\n",
       "    }\n",
       "\n",
       "    .dataframe tbody tr th {\n",
       "        vertical-align: top;\n",
       "    }\n",
       "\n",
       "    .dataframe thead th {\n",
       "        text-align: right;\n",
       "    }\n",
       "</style>\n",
       "<table border=\"1\" class=\"dataframe\">\n",
       "  <thead>\n",
       "    <tr style=\"text-align: right;\">\n",
       "      <th></th>\n",
       "      <th>ID</th>\n",
       "      <th>Name</th>\n",
       "      <th>Date of Birth</th>\n",
       "      <th>Age</th>\n",
       "      <th>Gender</th>\n",
       "      <th>Body Mass Index</th>\n",
       "      <th>Address</th>\n",
       "      <th>Weekly wage</th>\n",
       "      <th>Job status</th>\n",
       "      <th>Profession</th>\n",
       "      <th>Annual Income</th>\n",
       "      <th>Email address</th>\n",
       "      <th>Contact Number</th>\n",
       "      <th>Marital Status</th>\n",
       "      <th># of dependants</th>\n",
       "      <th>Avg Monthly Expenditure</th>\n",
       "    </tr>\n",
       "  </thead>\n",
       "  <tbody>\n",
       "    <tr>\n",
       "      <th>0</th>\n",
       "      <td>5S6B6BP</td>\n",
       "      <td>KEVIN ANDERSON</td>\n",
       "      <td>January 27, 2018</td>\n",
       "      <td>6.0</td>\n",
       "      <td>F</td>\n",
       "      <td>28.846250</td>\n",
       "      <td>NaN</td>\n",
       "      <td>8937</td>\n",
       "      <td>Employed</td>\n",
       "      <td>Teacher</td>\n",
       "      <td>227499</td>\n",
       "      <td>qhall@hotmail.com</td>\n",
       "      <td>3346312423325</td>\n",
       "      <td>Unmarried</td>\n",
       "      <td>4</td>\n",
       "      <td>484974</td>\n",
       "    </tr>\n",
       "    <tr>\n",
       "      <th>1</th>\n",
       "      <td>TM29EO2</td>\n",
       "      <td>NICHOLAS PERRY</td>\n",
       "      <td>August 01, 1959</td>\n",
       "      <td>65.0</td>\n",
       "      <td>O</td>\n",
       "      <td>NaN</td>\n",
       "      <td>030 Carrillo Junction, Michelleton, Oregon, 96462</td>\n",
       "      <td>965</td>\n",
       "      <td>Unemployed</td>\n",
       "      <td>NaN</td>\n",
       "      <td>279027</td>\n",
       "      <td>marissadavidson@pitts.com</td>\n",
       "      <td>7984249407157</td>\n",
       "      <td>NaN</td>\n",
       "      <td>3</td>\n",
       "      <td>431570</td>\n",
       "    </tr>\n",
       "    <tr>\n",
       "      <th>2</th>\n",
       "      <td>MG1IJX8</td>\n",
       "      <td>steven cortez</td>\n",
       "      <td>May 18, 1995</td>\n",
       "      <td>29.0</td>\n",
       "      <td>O</td>\n",
       "      <td>15.653214</td>\n",
       "      <td>3497 James Islands Apt. 257, South Chase, Tenn...</td>\n",
       "      <td>8244</td>\n",
       "      <td>NaN</td>\n",
       "      <td>NaN</td>\n",
       "      <td>68767</td>\n",
       "      <td>gscott@yahoo.com</td>\n",
       "      <td>6789661925093</td>\n",
       "      <td>NaN</td>\n",
       "      <td>3</td>\n",
       "      <td>5K</td>\n",
       "    </tr>\n",
       "    <tr>\n",
       "      <th>3</th>\n",
       "      <td>W994VAP</td>\n",
       "      <td>ROBIN COLLINS</td>\n",
       "      <td>12/29/1910</td>\n",
       "      <td>114.0</td>\n",
       "      <td>O</td>\n",
       "      <td>33.762516</td>\n",
       "      <td>2918 Bradley Cove Apt. 471, Patelborough, Nort...</td>\n",
       "      <td>7001</td>\n",
       "      <td>Student</td>\n",
       "      <td>NaN</td>\n",
       "      <td>10762</td>\n",
       "      <td>yvonne12@dean-holder.net</td>\n",
       "      <td>1482600466366</td>\n",
       "      <td>Married</td>\n",
       "      <td>6</td>\n",
       "      <td>NaN</td>\n",
       "    </tr>\n",
       "    <tr>\n",
       "      <th>4</th>\n",
       "      <td>7ZLRS0W</td>\n",
       "      <td>alyssa clark dds</td>\n",
       "      <td>July 19, 1943</td>\n",
       "      <td>81.0</td>\n",
       "      <td>NaN</td>\n",
       "      <td>22.712210</td>\n",
       "      <td>2839 Avila Greens Suite 307, Johnsonton, Misso...</td>\n",
       "      <td>7633</td>\n",
       "      <td>Employed</td>\n",
       "      <td>Engineer</td>\n",
       "      <td>384292</td>\n",
       "      <td>shawnjones@guzman.com</td>\n",
       "      <td>8028511970892</td>\n",
       "      <td>NaN</td>\n",
       "      <td>3</td>\n",
       "      <td>314968</td>\n",
       "    </tr>\n",
       "  </tbody>\n",
       "</table>\n",
       "</div>"
      ],
      "text/plain": [
       "        ID              Name     Date of Birth    Age Gender  Body Mass Index  \\\n",
       "0  5S6B6BP    KEVIN ANDERSON  January 27, 2018    6.0      F        28.846250   \n",
       "1  TM29EO2    NICHOLAS PERRY   August 01, 1959   65.0      O              NaN   \n",
       "2  MG1IJX8     steven cortez      May 18, 1995   29.0      O        15.653214   \n",
       "3  W994VAP     ROBIN COLLINS        12/29/1910  114.0      O        33.762516   \n",
       "4  7ZLRS0W  alyssa clark dds     July 19, 1943   81.0    NaN        22.712210   \n",
       "\n",
       "                                             Address Weekly wage  Job status  \\\n",
       "0                                                NaN        8937    Employed   \n",
       "1  030 Carrillo Junction, Michelleton, Oregon, 96462         965  Unemployed   \n",
       "2  3497 James Islands Apt. 257, South Chase, Tenn...        8244         NaN   \n",
       "3  2918 Bradley Cove Apt. 471, Patelborough, Nort...        7001     Student   \n",
       "4  2839 Avila Greens Suite 307, Johnsonton, Misso...        7633    Employed   \n",
       "\n",
       "  Profession Annual Income              Email address Contact Number  \\\n",
       "0    Teacher        227499          qhall@hotmail.com  3346312423325   \n",
       "1        NaN        279027  marissadavidson@pitts.com  7984249407157   \n",
       "2        NaN         68767           gscott@yahoo.com  6789661925093   \n",
       "3        NaN         10762   yvonne12@dean-holder.net  1482600466366   \n",
       "4   Engineer        384292      shawnjones@guzman.com  8028511970892   \n",
       "\n",
       "  Marital Status # of dependants Avg Monthly Expenditure  \n",
       "0      Unmarried               4                  484974  \n",
       "1            NaN               3                  431570  \n",
       "2            NaN               3                      5K  \n",
       "3        Married               6                     NaN  \n",
       "4            NaN               3                  314968  "
      ]
     },
     "execution_count": 57,
     "metadata": {},
     "output_type": "execute_result"
    }
   ],
   "source": [
    "filename = None\n",
    "### BEGIN SOLUTION\n",
    "filename = \"./data/data.csv\"\n",
    "### END SOLUTION\n",
    "\n",
    "df = None\n",
    "\n",
    "### BEGIN SOLUTION\n",
    "df = pd.read_csv(filename)\n",
    "### END SOLUTION\n",
    "\n",
    "df.head()"
   ]
  },
  {
   "cell_type": "code",
   "execution_count": 64,
   "id": "74607571-ecd2-4258-b799-89924d45fd83",
   "metadata": {
    "nbgrader": {
     "grade": true,
     "grade_id": "cell-7b99f0fde7118311",
     "locked": true,
     "points": 1,
     "schema_version": 3,
     "solution": false,
     "task": false
    }
   },
   "outputs": [],
   "source": [
    "assert len(df) == 1000\n",
    "assert set(df.columns) == {'ID', 'Name', 'Date of Birth', 'Age', 'Gender', 'Body Mass Index',\n",
    "       'Address', 'Weekly wage', 'Job status', 'Profession', 'Annual Income',\n",
    "       'Email address', 'Contact Number', 'Marital Status', '# of dependants',\n",
    "       'Avg Monthly Expenditure'}\n",
    "### BEGIN HIDDEN TESTS\n",
    "# checking for particular samples at fixed indexes\n",
    "assert df.iloc[0].Name == \"KEVIN ANDERSON\" \n",
    "assert df.iloc[448].Address == \"38207 Hansen Locks, Torresfurt, Maine, 51038\"\n",
    "\n",
    "# assert types of columns\n",
    "assert df['ID'].dtype == object\n",
    "assert df['Name'].dtype == object\n",
    "assert df['Date of Birth'].dtype == object\n",
    "assert df['Age'].dtype == np.float64\n",
    "assert df['Gender'].dtype == object\n",
    "assert df['Body Mass Index'].dtype == np.float64\n",
    "assert df['Address'].dtype == object\n",
    "assert df['Weekly wage'].dtype == object\n",
    "assert df['Job status'].dtype == object\n",
    "assert df['Profession'].dtype == object\n",
    "assert df['Annual Income'].dtype == object\n",
    "assert df['Email address'].dtype == object\n",
    "assert df['Contact Number'].dtype == object\n",
    "assert df['Marital Status'].dtype == object\n",
    "assert df['# of dependants'].dtype == object\n",
    "assert df['Avg Monthly Expenditure'].dtype == object\n",
    "\n",
    "### END HIDDEN TESTS"
   ]
  },
  {
   "cell_type": "markdown",
   "id": "24e797dd-d330-4892-82a7-d2cf5ebd2444",
   "metadata": {},
   "source": [
    "## Data Types of Columns\n",
    "Let us checkout the data types of the columns."
   ]
  },
  {
   "cell_type": "code",
   "execution_count": 66,
   "id": "c6e6f362-0bb7-4ec0-ae8a-bfc776617823",
   "metadata": {},
   "outputs": [
    {
     "data": {
      "text/plain": [
       "ID                          object\n",
       "Name                        object\n",
       "Date of Birth               object\n",
       "Age                        float64\n",
       "Gender                      object\n",
       "Body Mass Index            float64\n",
       "Address                     object\n",
       "Weekly wage                 object\n",
       "Job status                  object\n",
       "Profession                  object\n",
       "Annual Income               object\n",
       "Email address               object\n",
       "Contact Number              object\n",
       "Marital Status              object\n",
       "# of dependants             object\n",
       "Avg Monthly Expenditure     object\n",
       "dtype: object"
      ]
     },
     "execution_count": 66,
     "metadata": {},
     "output_type": "execute_result"
    }
   ],
   "source": [
    "df.dtypes"
   ]
  },
  {
   "cell_type": "markdown",
   "id": "6ab5ff9d-6938-4151-8f7e-78afe2dc7420",
   "metadata": {},
   "source": [
    "### Observation\n",
    "\n",
    "We see that most of the columns are read as `object` while Age and Body Mass Index have been read as 'float64'.\n",
    "\n",
    "This indicates that pandas was unable to automatically assign appropriate data types to our columns.\n",
    "\n",
    "Thus usually occurs when our data is dirty. Let us explore the different columns to find and fix the problematic records."
   ]
  },
  {
   "cell_type": "markdown",
   "id": "92a560e0-03f4-4dd0-b2e6-300f6f36c73c",
   "metadata": {},
   "source": [
    "# Data Exploration\n",
    "\n",
    "In this section, we will look at some of the columns and try to find columns with dirty data and clean them using some set rules.\n",
    "\n"
   ]
  },
  {
   "cell_type": "code",
   "execution_count": null,
   "id": "0e5798ef-2835-4aec-94ef-cf137a8649b1",
   "metadata": {},
   "outputs": [],
   "source": []
  },
  {
   "cell_type": "code",
   "execution_count": null,
   "id": "3f5f0100-335c-46e8-9b48-8ea1c9efcf14",
   "metadata": {},
   "outputs": [],
   "source": []
  },
  {
   "cell_type": "code",
   "execution_count": null,
   "id": "18e70305-2788-44ef-a617-e6149a1fde0e",
   "metadata": {},
   "outputs": [],
   "source": []
  },
  {
   "cell_type": "code",
   "execution_count": null,
   "id": "d8b67375-a8c5-41c7-91a1-a0403b760541",
   "metadata": {},
   "outputs": [],
   "source": []
  }
 ],
 "metadata": {
  "kernelspec": {
   "display_name": "Python 3 (ipykernel)",
   "language": "python",
   "name": "python3"
  },
  "language_info": {
   "codemirror_mode": {
    "name": "ipython",
    "version": 3
   },
   "file_extension": ".py",
   "mimetype": "text/x-python",
   "name": "python",
   "nbconvert_exporter": "python",
   "pygments_lexer": "ipython3",
   "version": "3.10.12"
  }
 },
 "nbformat": 4,
 "nbformat_minor": 5
}
